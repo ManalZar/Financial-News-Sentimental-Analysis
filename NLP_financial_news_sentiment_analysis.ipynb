{
  "metadata": {
    "kernelspec": {
      "language": "python",
      "display_name": "Python 3",
      "name": "python3"
    },
    "language_info": {
      "name": "python",
      "version": "3.7.6",
      "mimetype": "text/x-python",
      "codemirror_mode": {
        "name": "ipython",
        "version": 3
      },
      "pygments_lexer": "ipython3",
      "nbconvert_exporter": "python",
      "file_extension": ".py"
    },
    "colab": {
      "name": "NLP_financial_news_sentiment_analysis.ipynb",
      "provenance": [],
      "include_colab_link": true
    }
  },
  "nbformat_minor": 0,
  "nbformat": 4,
  "cells": [
    {
      "cell_type": "markdown",
      "metadata": {
        "id": "view-in-github",
        "colab_type": "text"
      },
      "source": [
        "<a href=\"https://colab.research.google.com/github/ManalZar/Financial-News-Sentimental-Analysis/blob/main/NLP_financial_news_sentiment_analysis.ipynb\" target=\"_parent\"><img src=\"https://colab.research.google.com/assets/colab-badge.svg\" alt=\"Open In Colab\"/></a>"
      ]
    },
    {
      "cell_type": "markdown",
      "source": [
        "![https://miro.medium.com/max/9000/1*h0mO4PdZaQKtbwWJW40FKQ.jpeg](https://miro.medium.com/max/9000/1*h0mO4PdZaQKtbwWJW40FKQ.jpeg)"
      ],
      "metadata": {
        "papermill": {
          "duration": 0.027981,
          "end_time": "2020-10-05T01:18:49.275514",
          "exception": false,
          "start_time": "2020-10-05T01:18:49.247533",
          "status": "completed"
        },
        "tags": [],
        "id": "FG66r6G7bqk4"
      }
    },
    {
      "cell_type": "markdown",
      "source": [
        "# NLP\n",
        "\n",
        "Natural language processing (NLP) is a subfield of linguistics, computer science, and artificial intelligence concerned with the interactions between computers and human language, in particular how to program computers to process and analyze large amounts of natural language data.\n",
        "\n",
        "NLP is currently the focus of significant interest in the machine learning community. Some of the use cases for NLP are listed here:\n",
        "* Chatbots\n",
        "* Search(text and Audio)\n",
        "* Text Classification\n",
        "* Sentiment Analysis\n",
        "* Recomendation System\n",
        "* Quesstion Answering\n",
        "* Speech recognation\n",
        "* NLU (Natural Language Understanding)\n",
        "* NLG ( Natural Language Generation)\n",
        "\n",
        "You encounter many of these use cases in everyday life : when you visit web pages or perform an online search for books, or recommendation regarding movies.\n",
        "\n",
        "\n"
      ],
      "metadata": {
        "papermill": {
          "duration": 0.025858,
          "end_time": "2020-10-05T01:18:49.329717",
          "exception": false,
          "start_time": "2020-10-05T01:18:49.303859",
          "status": "completed"
        },
        "tags": [],
        "id": "AvehPpvGbqk7"
      }
    },
    {
      "cell_type": "markdown",
      "source": [
        "# NLP Techniques\n",
        "\n",
        "The earliest approach for solving NLP task involves rule-based approachers, which dominated the indusytry for decades. Examples of techniques using rule based approaches include Regular Expressions (RegExs) and Context Free Grammars (CFGs). RegExs are sometimes used in order to remove HTML tags from text that has been scraped from a web page or uwanted special characters from a document.\n",
        "\n",
        "\n",
        "The second approach involved training a machine learning model with some data that is based on some user defined features. This technique requires a considerable amount of features engineering ( a nontrivial task), and includes analyzing the text to remove undersired and superfluous content(including stop words), as well as transforming the word (e.g., converting upercase to lowercase).\n",
        "\n",
        "\n",
        "The most recent approach involves deep learning, whereby a neural network learns the features instead of relying on human to perform feature engineering. One of the key ideas involves mapping words to numbers, which enables us to map sentence to vector of number. After transforming documents to vector, we can perform a myriad of operations on those vector.  For example we use the notion of vector space to define vector space model, where the distance between two vector can be measured  by the angle between them (related to cosine similarity). If two vector are closed to each other, then it's likelier that the coresponding sentence are similar meaning. Their similarity is based on the distributional hypothesis, which asserts that words in the same contexts tent to have similar meaning.The NLP models that use deep learning can comprise CNNs, RNNs, LSTMs, and bidirectional LSTMs.\n"
      ],
      "metadata": {
        "papermill": {
          "duration": 0.025554,
          "end_time": "2020-10-05T01:18:49.381945",
          "exception": false,
          "start_time": "2020-10-05T01:18:49.356391",
          "status": "completed"
        },
        "tags": [],
        "id": "Wc2EGnYObqlC"
      }
    },
    {
      "cell_type": "markdown",
      "source": [
        "# Example Cases : Sentiment Analysis\n",
        "\n",
        "# This work tries to classifying sentiment from financial news using Combination Doc2vec and LSTM"
      ],
      "metadata": {
        "papermill": {
          "duration": 0.025721,
          "end_time": "2020-10-05T01:18:49.433733",
          "exception": false,
          "start_time": "2020-10-05T01:18:49.408012",
          "status": "completed"
        },
        "tags": [],
        "id": "IGqukRKwbqlF"
      }
    },
    {
      "cell_type": "markdown",
      "source": [
        "# What is Sentimen Analysis ?\n",
        "\n",
        "Sentiment analysis refers to the use of natural language processing, text analysis, computational linguistics, and biometrics to systematically identify, extract, quantify, and study affective states and subjective information. Sentiment Analysis [2]: the process of understanding if a given text is talking positively or negatively about a given subject, aiming for brand monitoring.\n",
        "\n",
        "\n",
        "![https://mk0ecommercefas531pc.kinstacdn.com/wp-content/uploads/2019/12/sentiment-analysis.png](https://mk0ecommercefas531pc.kinstacdn.com/wp-content/uploads/2019/12/sentiment-analysis.png)\n",
        "\n",
        "\n",
        "# Different Levels of Analysis \n",
        "\n",
        "According to [4] sentiment analysis has been investigated mainly at three levels:  \n",
        "\n",
        "*** Document level:**\n",
        "\n",
        "The task at this level is to classify whether a whole opinion document expresses a positive or negative sentiment (Pang, Lee and Vaithyanathan, 2002; Turney, 2002). For example, given a product\n",
        "review, the system determines whether the review expresses an overall positive or negative opinion about the product. This task is commonly known as document-level sentiment classification. This level of analysis\n",
        "assumes that each document expresses opinions on a single entity (e.g., a single product). Thus, it is not applicable to documents which evaluate or compare multiple entities. \n",
        "\n",
        "\n",
        "\n",
        "** Sentence level: **\n",
        "\n",
        "\n",
        "The task at this level goes to the sentences and determines whether each sentence expressed a positive, negative, or neutral opinion. Neutral usually means no opinion. This level of analysis is closely related to subjectivity classification (Wiebe, Bruce and O'Hara, 1999), which distinguishes sentences (called objective sentences) that express factual information from sentences (called subjective sentences) that express\n",
        "subjective views and opinions. However, we should note that subjectivity is not equivalent to sentiment as many objective sentences can imply opinions, e.g., “We bought the car last month and the windshield wiper\n",
        "has fallen off.” Researchers have also analyzed clauses (Wilson, Wiebe and Hwa, 2004), but the clause level is still not enough, e.g., “Apple is doing very well in this lousy economy.” \n",
        "\n",
        "\n",
        "**Entity and Aspect level: **\n",
        "\n",
        "\n",
        "Both the document level and the sentence level analyses do not discover what exactly people liked and did not like. Aspect level performs finer-grained analysis. Aspect level was earlier called feature level (feature-based opinion mining and summarization) (Hu and Liu, 2004). Instead of looking at language constructs (documents, paragraphs, sentences, clauses or phrases), aspect level directly looks at the opinion itself. It is based on the idea that an opinion consists of a sentiment (positive or negative) and a target (of opinion). An opinion without its target being identified is of limited use. Realizing the importance of opinion targets also helps us understand the sentiment\n",
        "analysis problem better. \n",
        "\n"
      ],
      "metadata": {
        "papermill": {
          "duration": 0.025833,
          "end_time": "2020-10-05T01:18:49.537451",
          "exception": false,
          "start_time": "2020-10-05T01:18:49.511618",
          "status": "completed"
        },
        "tags": [],
        "id": "tU-LnM0AbqlG"
      }
    },
    {
      "cell_type": "markdown",
      "source": [
        "![https://miro.medium.com/max/6656/1*99ToSc3FWZWlZ_BPcTe9zQ.png](https://miro.medium.com/max/6656/1*99ToSc3FWZWlZ_BPcTe9zQ.png)"
      ],
      "metadata": {
        "id": "okT8osEgbqlI"
      }
    },
    {
      "cell_type": "markdown",
      "source": [
        "\n",
        "# What is LSTM ?\n",
        "\n",
        "Long Short Term Memory (LSTM) is a special kind of Recurrent Neural Network (RNN), capable of learning long-term dependencies. These long-term dependencies have a great influence on the meaning and overall polarity of a document. Long short-term memory networks (LSTM) address this long-term dependency problem by introducing a memory into the network. It was first introduced by **Hochreiter & Schmidhuber**.\n",
        "\n",
        "![https://upload.wikimedia.org/wikipedia/commons/thumb/5/53/Peephole_Long_Short-Term_Memory.svg/2000px-Peephole_Long_Short-Term_Memory.svg.png](https://upload.wikimedia.org/wikipedia/commons/thumb/5/53/Peephole_Long_Short-Term_Memory.svg/2000px-Peephole_Long_Short-Term_Memory.svg.png)\n",
        "\n",
        "\n",
        "The LSTM architecture has a range of repeated modules for each time step as in a standard RNN. At each time step, the output of the module is controlled by a set of gates, as a function of the old hidden state ℎ𝑡−1 and the input at the current time step 𝑥𝑡 : the forget gate 𝑓𝑡, the input gate 𝑖𝑡 , and the output gate 𝑂𝑡 . These gates collectively decide how to update the current memory cell 𝐶𝑡 and the current hidden state ℎ𝑡 . The LSTM transition functions are defined as follows:\n",
        "\n",
        "𝑖𝑡=(𝑊𝑖[ℎ𝑡−1,𝑥𝑡]+𝑏𝑖) \n",
        "\n",
        "𝐶´𝑡=𝑡𝑎𝑛ℎ(𝑊𝑐[ℎ𝑡−1,𝑥𝑡]+𝑏𝐶) \n",
        "\n",
        "𝑓𝑡=(𝑊𝑓[ℎ𝑡−1,𝑥𝑡]+𝑏𝑓) \n",
        "\n",
        "𝑂𝑡=(𝑊𝑜[ℎ𝑡−1,𝑥𝑡]+𝑏𝑜) \n",
        "\n",
        "𝐶𝑡= 𝑓𝑡∗𝐶𝑡−1+𝑖𝑡∗𝐶´𝑡\n",
        "\n",
        "Here 𝜎 is logistic sigmoid function that has an output in 𝑛 [0,1] ,tanh denotes the hyperbolic tangent function that has an output ℎ 𝑖𝑛 [−1,1], and ∗ denotes the pointwise multiplication.\n",
        "\n",
        "\n",
        "As I mentioned before to deal with Deep learning we have to map sentence to vector of number. In this work inspired by [3] Doc2vec as the embedding used for extracting information context. The Doc2vec is an unsupervised algorithm that learns fixed-length feature representations from variable-length pieces of texts such as sentences, paragraphs, and documents.\n"
      ],
      "metadata": {
        "id": "U5arpUFwbqlJ"
      }
    },
    {
      "cell_type": "markdown",
      "source": [
        "# Practical Example"
      ],
      "metadata": {
        "papermill": {
          "duration": 0.025709,
          "end_time": "2020-10-05T01:18:49.589211",
          "exception": false,
          "start_time": "2020-10-05T01:18:49.563502",
          "status": "completed"
        },
        "tags": [],
        "id": "tddvZ-AhbqlK"
      }
    },
    {
      "cell_type": "code",
      "source": [
        "import pandas as pd\n",
        "import numpy as np\n",
        "from tqdm import tqdm\n",
        "from keras.preprocessing.text import Tokenizer\n",
        "tqdm.pandas(desc=\"progress-bar\")\n",
        "from gensim.models import Doc2Vec\n",
        "from sklearn import utils\n",
        "from sklearn.model_selection import train_test_split\n",
        "from keras.preprocessing.sequence import pad_sequences\n",
        "import gensim\n",
        "from sklearn.linear_model import LogisticRegression\n",
        "from gensim.models.doc2vec import TaggedDocument\n",
        "import re\n",
        "import seaborn as sns\n",
        "import matplotlib.pyplot as plt"
      ],
      "metadata": {
        "_cell_guid": "b1076dfc-b9ad-4769-8c92-a6c4dae69d19",
        "_uuid": "8f2839f25d086af736a60e9eeb907d3b93b6e0e5",
        "papermill": {
          "duration": 7.396026,
          "end_time": "2020-10-05T01:18:57.011338",
          "exception": false,
          "start_time": "2020-10-05T01:18:49.615312",
          "status": "completed"
        },
        "tags": [],
        "execution": {
          "iopub.status.busy": "2022-02-09T23:24:10.222814Z",
          "iopub.execute_input": "2022-02-09T23:24:10.223239Z",
          "iopub.status.idle": "2022-02-09T23:24:10.232640Z",
          "shell.execute_reply.started": "2022-02-09T23:24:10.223205Z",
          "shell.execute_reply": "2022-02-09T23:24:10.231624Z"
        },
        "trusted": true,
        "id": "gBTSxQznbqlL"
      },
      "execution_count": null,
      "outputs": []
    },
    {
      "cell_type": "markdown",
      "source": [
        "Read Dataset"
      ],
      "metadata": {
        "papermill": {
          "duration": 0.026202,
          "end_time": "2020-10-05T01:18:57.065069",
          "exception": false,
          "start_time": "2020-10-05T01:18:57.038867",
          "status": "completed"
        },
        "tags": [],
        "id": "G_ndL8KzbqlO"
      }
    },
    {
      "cell_type": "code",
      "source": [
        "df = pd.read_csv('../input/sentiment-analysis-for-financial-news/all-data.csv',delimiter=',',encoding='latin-1')\n",
        "df.head()"
      ],
      "metadata": {
        "papermill": {
          "duration": 0.08967,
          "end_time": "2020-10-05T01:18:57.181376",
          "exception": false,
          "start_time": "2020-10-05T01:18:57.091706",
          "status": "completed"
        },
        "tags": [],
        "execution": {
          "iopub.status.busy": "2022-02-09T23:24:10.234946Z",
          "iopub.execute_input": "2022-02-09T23:24:10.235423Z",
          "iopub.status.idle": "2022-02-09T23:24:10.271978Z",
          "shell.execute_reply.started": "2022-02-09T23:24:10.235374Z",
          "shell.execute_reply": "2022-02-09T23:24:10.271061Z"
        },
        "trusted": true,
        "id": "Qezq7BWgbqlP"
      },
      "execution_count": null,
      "outputs": []
    },
    {
      "cell_type": "code",
      "source": [
        "df = df.rename(columns={'neutral':'sentiment','According to Gran , the company has no plans to move all production to Russia , although that is where the company is growing .':'Message'})"
      ],
      "metadata": {
        "execution": {
          "iopub.status.busy": "2022-02-09T23:24:10.273643Z",
          "iopub.execute_input": "2022-02-09T23:24:10.273943Z",
          "iopub.status.idle": "2022-02-09T23:24:10.279724Z",
          "shell.execute_reply.started": "2022-02-09T23:24:10.273912Z",
          "shell.execute_reply": "2022-02-09T23:24:10.278618Z"
        },
        "trusted": true,
        "id": "yhba1_1gbqlR"
      },
      "execution_count": null,
      "outputs": []
    },
    {
      "cell_type": "code",
      "source": [
        "df.shape"
      ],
      "metadata": {
        "_cell_guid": "79c7e3d0-c299-4dcb-8224-4455121ee9b0",
        "_uuid": "d629ff2d2480ee46fbb7e2d37f6b5fab8052498a",
        "papermill": {
          "duration": 0.03518,
          "end_time": "2020-10-05T01:18:57.243466",
          "exception": false,
          "start_time": "2020-10-05T01:18:57.208286",
          "status": "completed"
        },
        "tags": [],
        "execution": {
          "iopub.status.busy": "2022-02-09T23:24:10.282646Z",
          "iopub.execute_input": "2022-02-09T23:24:10.283108Z",
          "iopub.status.idle": "2022-02-09T23:24:10.292898Z",
          "shell.execute_reply.started": "2022-02-09T23:24:10.283062Z",
          "shell.execute_reply": "2022-02-09T23:24:10.291888Z"
        },
        "trusted": true,
        "id": "AhIkf10ybqlR"
      },
      "execution_count": null,
      "outputs": []
    },
    {
      "cell_type": "code",
      "source": [
        "df.index = range(4845)\n",
        "df['Message'].apply(lambda x: len(x.split(' '))).sum()"
      ],
      "metadata": {
        "papermill": {
          "duration": 0.046333,
          "end_time": "2020-10-05T01:18:57.317547",
          "exception": false,
          "start_time": "2020-10-05T01:18:57.271214",
          "status": "completed"
        },
        "tags": [],
        "execution": {
          "iopub.status.busy": "2022-02-09T23:24:10.295021Z",
          "iopub.execute_input": "2022-02-09T23:24:10.295628Z",
          "iopub.status.idle": "2022-02-09T23:24:10.325840Z",
          "shell.execute_reply.started": "2022-02-09T23:24:10.295580Z",
          "shell.execute_reply": "2022-02-09T23:24:10.325042Z"
        },
        "trusted": true,
        "id": "8YOlaLlfbqlT"
      },
      "execution_count": null,
      "outputs": []
    },
    {
      "cell_type": "markdown",
      "source": [
        "VISUALIZING THE DATA"
      ],
      "metadata": {
        "papermill": {
          "duration": 0.027071,
          "end_time": "2020-10-05T01:18:57.372222",
          "exception": false,
          "start_time": "2020-10-05T01:18:57.345151",
          "status": "completed"
        },
        "tags": [],
        "id": "ZVubZqESbqlU"
      }
    },
    {
      "cell_type": "code",
      "source": [
        "cnt_pro = df['sentiment'].value_counts()\n",
        "plt.figure(figsize=(12,4))\n",
        "sns.barplot(cnt_pro.index, cnt_pro.values, alpha=0.8)\n",
        "plt.ylabel('Number of Occurrences', fontsize=12)\n",
        "plt.xlabel('sentiment', fontsize=12)\n",
        "plt.xticks(rotation=90)\n",
        "plt.show();"
      ],
      "metadata": {
        "papermill": {
          "duration": 0.197726,
          "end_time": "2020-10-05T01:18:57.597339",
          "exception": false,
          "start_time": "2020-10-05T01:18:57.399613",
          "status": "completed"
        },
        "tags": [],
        "execution": {
          "iopub.status.busy": "2022-02-09T23:24:10.327080Z",
          "iopub.execute_input": "2022-02-09T23:24:10.327389Z",
          "iopub.status.idle": "2022-02-09T23:24:10.478725Z",
          "shell.execute_reply.started": "2022-02-09T23:24:10.327357Z",
          "shell.execute_reply": "2022-02-09T23:24:10.477675Z"
        },
        "trusted": true,
        "id": "HDbf7kOVbqlU"
      },
      "execution_count": null,
      "outputs": []
    },
    {
      "cell_type": "code",
      "source": [
        "#Convert sting to numeric\n",
        "sentiment  = {'positive': 0,'neutral': 1,'negative':2} \n",
        "\n",
        "df.sentiment = [sentiment[item] for item in df.sentiment] \n",
        "print(df)"
      ],
      "metadata": {
        "execution": {
          "iopub.status.busy": "2022-02-09T23:24:10.480015Z",
          "iopub.execute_input": "2022-02-09T23:24:10.480306Z",
          "iopub.status.idle": "2022-02-09T23:24:10.494746Z",
          "shell.execute_reply.started": "2022-02-09T23:24:10.480276Z",
          "shell.execute_reply": "2022-02-09T23:24:10.493831Z"
        },
        "trusted": true,
        "id": "E82padgjbqlU"
      },
      "execution_count": null,
      "outputs": []
    },
    {
      "cell_type": "code",
      "source": [
        "def print_message(index):\n",
        "    example = df[df.index == index][['Message', 'sentiment']].values[0]\n",
        "    if len(example) > 0:\n",
        "        print(example[0])\n",
        "        print('Message:', example[1])\n",
        "print_message(12)"
      ],
      "metadata": {
        "papermill": {
          "duration": 0.039449,
          "end_time": "2020-10-05T01:18:57.66496",
          "exception": false,
          "start_time": "2020-10-05T01:18:57.625511",
          "status": "completed"
        },
        "tags": [],
        "execution": {
          "iopub.status.busy": "2022-02-09T23:24:10.496462Z",
          "iopub.execute_input": "2022-02-09T23:24:10.497056Z",
          "iopub.status.idle": "2022-02-09T23:24:10.507374Z",
          "shell.execute_reply.started": "2022-02-09T23:24:10.497016Z",
          "shell.execute_reply": "2022-02-09T23:24:10.506384Z"
        },
        "trusted": true,
        "id": "AemivPJkbqlV"
      },
      "execution_count": null,
      "outputs": []
    },
    {
      "cell_type": "code",
      "source": [
        "print_message(0)"
      ],
      "metadata": {
        "papermill": {
          "duration": 0.03747,
          "end_time": "2020-10-05T01:18:57.730886",
          "exception": false,
          "start_time": "2020-10-05T01:18:57.693416",
          "status": "completed"
        },
        "tags": [],
        "execution": {
          "iopub.status.busy": "2022-02-09T23:24:10.508979Z",
          "iopub.execute_input": "2022-02-09T23:24:10.509574Z",
          "iopub.status.idle": "2022-02-09T23:24:10.518020Z",
          "shell.execute_reply.started": "2022-02-09T23:24:10.509530Z",
          "shell.execute_reply": "2022-02-09T23:24:10.517107Z"
        },
        "trusted": true,
        "id": "cH055NW4bqlV"
      },
      "execution_count": null,
      "outputs": []
    },
    {
      "cell_type": "markdown",
      "source": [
        "Text Preprocessing Below we define a function to convert text to lower-case and strip punctuation/symbols from words and so on."
      ],
      "metadata": {
        "papermill": {
          "duration": 0.028191,
          "end_time": "2020-10-05T01:18:57.787679",
          "exception": false,
          "start_time": "2020-10-05T01:18:57.759488",
          "status": "completed"
        },
        "tags": [],
        "id": "PPwnUiahbqlV"
      }
    },
    {
      "cell_type": "code",
      "source": [
        "from bs4 import BeautifulSoup\n",
        "def cleanText(text):\n",
        "    text = BeautifulSoup(text, \"lxml\").text\n",
        "    text = re.sub(r'\\|\\|\\|', r' ', text) \n",
        "    text = re.sub(r'http\\S+', r'<URL>', text)\n",
        "    text = text.lower()\n",
        "    text = text.replace('x', '')\n",
        "    return text\n",
        "df['Message'] = df['Message'].apply(cleanText)"
      ],
      "metadata": {
        "papermill": {
          "duration": 1.433243,
          "end_time": "2020-10-05T01:18:59.249542",
          "exception": false,
          "start_time": "2020-10-05T01:18:57.816299",
          "status": "completed"
        },
        "tags": [],
        "execution": {
          "iopub.status.busy": "2022-02-09T23:24:10.521373Z",
          "iopub.execute_input": "2022-02-09T23:24:10.521812Z",
          "iopub.status.idle": "2022-02-09T23:24:11.575079Z",
          "shell.execute_reply.started": "2022-02-09T23:24:10.521779Z",
          "shell.execute_reply": "2022-02-09T23:24:11.573963Z"
        },
        "trusted": true,
        "id": "a3DPfTBRbqlW"
      },
      "execution_count": null,
      "outputs": []
    },
    {
      "cell_type": "code",
      "source": [
        "df['Message'] = df['Message'].apply(cleanText)\n",
        "train, test = train_test_split(df, test_size=0.000001 , random_state=42)\n",
        "import nltk\n",
        "from nltk.corpus import stopwords\n",
        "def tokenize_text(text):\n",
        "    tokens = []\n",
        "    for sent in nltk.sent_tokenize(text):\n",
        "        for word in nltk.word_tokenize(sent):\n",
        "            #if len(word) < 0:\n",
        "            if len(word) <= 0:\n",
        "                continue\n",
        "            tokens.append(word.lower())\n",
        "    return tokens\n",
        "train_tagged = train.apply(\n",
        "    lambda r: TaggedDocument(words=tokenize_text(r['Message']), tags=[r.sentiment]), axis=1)\n",
        "test_tagged = test.apply(\n",
        "    lambda r: TaggedDocument(words=tokenize_text(r['Message']), tags=[r.sentiment]), axis=1)\n",
        "\n",
        "# The maximum number of words to be used. (most frequent)\n",
        "max_fatures = 500000\n",
        "\n",
        "# Max number of words in each complaint.\n",
        "MAX_SEQUENCE_LENGTH = 50\n",
        "\n",
        "#tokenizer = Tokenizer(num_words=max_fatures, split=' ')\n",
        "tokenizer = Tokenizer(num_words=max_fatures, split=' ', filters='!\"#$%&()*+,-./:;<=>?@[\\]^_`{|}~', lower=True)\n",
        "tokenizer.fit_on_texts(df['Message'].values)\n",
        "X = tokenizer.texts_to_sequences(df['Message'].values)\n",
        "X = pad_sequences(X)\n",
        "print('Found %s unique tokens.' % len(X))"
      ],
      "metadata": {
        "papermill": {
          "duration": 3.888841,
          "end_time": "2020-10-05T01:19:03.167222",
          "exception": false,
          "start_time": "2020-10-05T01:18:59.278381",
          "status": "completed"
        },
        "tags": [],
        "execution": {
          "iopub.status.busy": "2022-02-09T23:24:11.578904Z",
          "iopub.execute_input": "2022-02-09T23:24:11.579276Z",
          "iopub.status.idle": "2022-02-09T23:24:14.977076Z",
          "shell.execute_reply.started": "2022-02-09T23:24:11.579241Z",
          "shell.execute_reply": "2022-02-09T23:24:14.976051Z"
        },
        "trusted": true,
        "id": "JGKW6Ai1bqlX"
      },
      "execution_count": null,
      "outputs": []
    },
    {
      "cell_type": "code",
      "source": [
        "X = tokenizer.texts_to_sequences(df['Message'].values)\n",
        "X = pad_sequences(X, maxlen=MAX_SEQUENCE_LENGTH)\n",
        "print('Shape of data tensor:', X.shape)"
      ],
      "metadata": {
        "papermill": {
          "duration": 0.161222,
          "end_time": "2020-10-05T01:19:03.35797",
          "exception": false,
          "start_time": "2020-10-05T01:19:03.196748",
          "status": "completed"
        },
        "tags": [],
        "execution": {
          "iopub.status.busy": "2022-02-09T23:24:14.978497Z",
          "iopub.execute_input": "2022-02-09T23:24:14.978835Z",
          "iopub.status.idle": "2022-02-09T23:24:15.156697Z",
          "shell.execute_reply.started": "2022-02-09T23:24:14.978803Z",
          "shell.execute_reply": "2022-02-09T23:24:15.155668Z"
        },
        "trusted": true,
        "id": "mRJO4TbXbqlX"
      },
      "execution_count": null,
      "outputs": []
    },
    {
      "cell_type": "code",
      "source": [
        "#train_tagged.values[2173]\n",
        "train_tagged.values"
      ],
      "metadata": {
        "papermill": {
          "duration": 0.038354,
          "end_time": "2020-10-05T01:19:03.426988",
          "exception": false,
          "start_time": "2020-10-05T01:19:03.388634",
          "status": "completed"
        },
        "tags": [],
        "execution": {
          "iopub.status.busy": "2022-02-09T23:24:15.158191Z",
          "iopub.execute_input": "2022-02-09T23:24:15.158496Z",
          "iopub.status.idle": "2022-02-09T23:24:15.166207Z",
          "shell.execute_reply.started": "2022-02-09T23:24:15.158466Z",
          "shell.execute_reply": "2022-02-09T23:24:15.164960Z"
        },
        "trusted": true,
        "id": "rc1b5WJGbqlY"
      },
      "execution_count": null,
      "outputs": []
    },
    {
      "cell_type": "markdown",
      "source": [
        "Model DM = 1\n",
        "\n",
        "This work use DM=1 (it preserve word order)"
      ],
      "metadata": {
        "papermill": {
          "duration": 0.030785,
          "end_time": "2020-10-05T01:19:03.489054",
          "exception": false,
          "start_time": "2020-10-05T01:19:03.458269",
          "status": "completed"
        },
        "tags": [],
        "id": "1jeTZKptbqlY"
      }
    },
    {
      "cell_type": "code",
      "source": [
        "d2v_model = Doc2Vec(dm=1, dm_mean=1, size=20, window=8, min_count=1, workers=1, alpha=0.065, min_alpha=0.065)\n",
        "d2v_model.build_vocab([x for x in tqdm(train_tagged.values)])\n"
      ],
      "metadata": {
        "papermill": {
          "duration": 2.298341,
          "end_time": "2020-10-05T01:19:05.818788",
          "exception": false,
          "start_time": "2020-10-05T01:19:03.520447",
          "status": "completed"
        },
        "tags": [],
        "execution": {
          "iopub.status.busy": "2022-02-09T23:24:15.167518Z",
          "iopub.execute_input": "2022-02-09T23:24:15.167843Z",
          "iopub.status.idle": "2022-02-09T23:24:19.765072Z",
          "shell.execute_reply.started": "2022-02-09T23:24:15.167810Z",
          "shell.execute_reply": "2022-02-09T23:24:19.764239Z"
        },
        "trusted": true,
        "id": "P1FjMHVGbqlZ"
      },
      "execution_count": null,
      "outputs": []
    },
    {
      "cell_type": "code",
      "source": [
        "%%time\n",
        "for epoch in range(30):\n",
        "    d2v_model.train(utils.shuffle([x for x in tqdm(train_tagged.values)]), total_examples=len(train_tagged.values), epochs=1)\n",
        "    d2v_model.alpha -= 0.002\n",
        "    d2v_model.min_alpha = d2v_model.alpha"
      ],
      "metadata": {
        "papermill": {
          "duration": 11.449623,
          "end_time": "2020-10-05T01:19:17.299148",
          "exception": false,
          "start_time": "2020-10-05T01:19:05.849525",
          "status": "completed"
        },
        "tags": [],
        "execution": {
          "iopub.status.busy": "2022-02-09T23:24:19.766519Z",
          "iopub.execute_input": "2022-02-09T23:24:19.767149Z",
          "iopub.status.idle": "2022-02-09T23:24:33.689414Z",
          "shell.execute_reply.started": "2022-02-09T23:24:19.767113Z",
          "shell.execute_reply": "2022-02-09T23:24:33.688444Z"
        },
        "trusted": true,
        "id": "h2yPoE3_bqla"
      },
      "execution_count": null,
      "outputs": []
    },
    {
      "cell_type": "code",
      "source": [
        "print(d2v_model)\n"
      ],
      "metadata": {
        "papermill": {
          "duration": 0.063869,
          "end_time": "2020-10-05T01:19:17.434906",
          "exception": false,
          "start_time": "2020-10-05T01:19:17.371037",
          "status": "completed"
        },
        "tags": [],
        "execution": {
          "iopub.status.busy": "2022-02-09T23:24:33.690819Z",
          "iopub.execute_input": "2022-02-09T23:24:33.691152Z",
          "iopub.status.idle": "2022-02-09T23:24:33.696033Z",
          "shell.execute_reply.started": "2022-02-09T23:24:33.691120Z",
          "shell.execute_reply": "2022-02-09T23:24:33.695260Z"
        },
        "trusted": true,
        "id": "IhgC_YHZbqlb"
      },
      "execution_count": null,
      "outputs": []
    },
    {
      "cell_type": "code",
      "source": [
        "len(d2v_model.wv.vocab)\n"
      ],
      "metadata": {
        "papermill": {
          "duration": 0.065241,
          "end_time": "2020-10-05T01:19:17.555966",
          "exception": false,
          "start_time": "2020-10-05T01:19:17.490725",
          "status": "completed"
        },
        "tags": [],
        "execution": {
          "iopub.status.busy": "2022-02-09T23:24:33.697135Z",
          "iopub.execute_input": "2022-02-09T23:24:33.697555Z",
          "iopub.status.idle": "2022-02-09T23:24:33.711424Z",
          "shell.execute_reply.started": "2022-02-09T23:24:33.697524Z",
          "shell.execute_reply": "2022-02-09T23:24:33.710149Z"
        },
        "trusted": true,
        "id": "rsQ_94AFbqlb"
      },
      "execution_count": null,
      "outputs": []
    },
    {
      "cell_type": "code",
      "source": [
        "# save the vectors in a new matrix\n",
        "embedding_matrix = np.zeros((len(d2v_model.wv.vocab)+ 1, 20))\n",
        "\n",
        "for i, vec in enumerate(d2v_model.docvecs.vectors_docs):\n",
        "    while i in vec <= 1000:\n",
        "    #print(i)\n",
        "    #print(model.docvecs)\n",
        "          embedding_matrix[i]=vec\n",
        "    #print(vec)\n",
        "    #print(vec[i])"
      ],
      "metadata": {
        "papermill": {
          "duration": 0.066276,
          "end_time": "2020-10-05T01:19:17.678744",
          "exception": false,
          "start_time": "2020-10-05T01:19:17.612468",
          "status": "completed"
        },
        "tags": [],
        "execution": {
          "iopub.status.busy": "2022-02-09T23:24:33.713157Z",
          "iopub.execute_input": "2022-02-09T23:24:33.713798Z",
          "iopub.status.idle": "2022-02-09T23:24:33.722640Z",
          "shell.execute_reply.started": "2022-02-09T23:24:33.713748Z",
          "shell.execute_reply": "2022-02-09T23:24:33.721458Z"
        },
        "trusted": true,
        "id": "P1BsXJKLbqlc"
      },
      "execution_count": null,
      "outputs": []
    },
    {
      "cell_type": "markdown",
      "source": [
        "# Measuring distance between two vectors (related to cosine similarity)"
      ],
      "metadata": {
        "papermill": {
          "duration": 0.056188,
          "end_time": "2020-10-05T01:19:17.792133",
          "exception": false,
          "start_time": "2020-10-05T01:19:17.735945",
          "status": "completed"
        },
        "tags": [],
        "id": "Tqlx7nuFbqld"
      }
    },
    {
      "cell_type": "code",
      "source": [
        "d2v_model.wv.most_similar(positive=['profit'], topn=10)\n"
      ],
      "metadata": {
        "papermill": {
          "duration": 0.074348,
          "end_time": "2020-10-05T01:19:17.922934",
          "exception": false,
          "start_time": "2020-10-05T01:19:17.848586",
          "status": "completed"
        },
        "tags": [],
        "execution": {
          "iopub.status.busy": "2022-02-09T23:24:33.724299Z",
          "iopub.execute_input": "2022-02-09T23:24:33.725243Z",
          "iopub.status.idle": "2022-02-09T23:24:33.745238Z",
          "shell.execute_reply.started": "2022-02-09T23:24:33.725189Z",
          "shell.execute_reply": "2022-02-09T23:24:33.744112Z"
        },
        "trusted": true,
        "id": "RP3rHg-Obqle"
      },
      "execution_count": null,
      "outputs": []
    },
    {
      "cell_type": "code",
      "source": [
        "d2v_model.wv.most_similar(positive=['investment'], topn=10)\n"
      ],
      "metadata": {
        "papermill": {
          "duration": 0.070818,
          "end_time": "2020-10-05T01:19:18.050488",
          "exception": false,
          "start_time": "2020-10-05T01:19:17.97967",
          "status": "completed"
        },
        "tags": [],
        "execution": {
          "iopub.status.busy": "2022-02-09T23:24:33.746670Z",
          "iopub.execute_input": "2022-02-09T23:24:33.747585Z",
          "iopub.status.idle": "2022-02-09T23:24:33.756727Z",
          "shell.execute_reply.started": "2022-02-09T23:24:33.747534Z",
          "shell.execute_reply": "2022-02-09T23:24:33.755428Z"
        },
        "trusted": true,
        "id": "-C6nAZS9bqlf"
      },
      "execution_count": null,
      "outputs": []
    },
    {
      "cell_type": "code",
      "source": [
        "d2v_model.wv.most_similar(positive=['broke'], topn=10)"
      ],
      "metadata": {
        "execution": {
          "iopub.status.busy": "2022-02-09T23:24:33.758238Z",
          "iopub.execute_input": "2022-02-09T23:24:33.758939Z",
          "iopub.status.idle": "2022-02-09T23:24:33.769080Z",
          "shell.execute_reply.started": "2022-02-09T23:24:33.758782Z",
          "shell.execute_reply": "2022-02-09T23:24:33.767885Z"
        },
        "trusted": true,
        "id": "6itKy10_bqlg"
      },
      "execution_count": null,
      "outputs": []
    },
    {
      "cell_type": "markdown",
      "source": [
        "Plot Similarity word in Doc2vec"
      ],
      "metadata": {
        "id": "Toz4e23obqlh"
      }
    },
    {
      "cell_type": "code",
      "source": [
        "from sklearn.manifold import TSNE\n",
        "import matplotlib.pyplot as plt\n",
        "%matplotlib inline\n",
        "\n",
        "def tsne_plot(model):\n",
        "    \"Creates and TSNE model and plots it\"\n",
        "    labels = []\n",
        "    tokens = []\n",
        "\n",
        "    for word in d2v_model.wv.vocab:\n",
        "        tokens.append(model[word])\n",
        "        labels.append(word)\n",
        "    \n",
        "    tsne_model = TSNE(perplexity=40, n_components=2, init='pca', n_iter=250, random_state=23)\n",
        "    new_values = tsne_model.fit_transform(tokens)\n",
        "\n",
        "    x = []\n",
        "    y = []\n",
        "    for value in new_values:\n",
        "        x.append(value[0])\n",
        "        y.append(value[1])\n",
        "        \n",
        "    plt.figure(figsize=(16, 16)) \n",
        "    for i in range(len(x)):\n",
        "        plt.scatter(x[i],y[i])\n",
        "        plt.annotate(labels[i],\n",
        "                     xy=(x[i], y[i]),\n",
        "                     xytext=(5, 2),\n",
        "                     textcoords='offset points',\n",
        "                     ha='right',\n",
        "                     va='bottom')\n",
        "    plt.show()"
      ],
      "metadata": {
        "execution": {
          "iopub.status.busy": "2022-02-09T23:24:33.770590Z",
          "iopub.execute_input": "2022-02-09T23:24:33.771138Z",
          "iopub.status.idle": "2022-02-09T23:24:33.796519Z",
          "shell.execute_reply.started": "2022-02-09T23:24:33.771090Z",
          "shell.execute_reply": "2022-02-09T23:24:33.795445Z"
        },
        "trusted": true,
        "id": "aoTRhC1abqlh"
      },
      "execution_count": null,
      "outputs": []
    },
    {
      "cell_type": "code",
      "source": [
        "tsne_plot(d2v_model)"
      ],
      "metadata": {
        "execution": {
          "iopub.status.busy": "2022-02-09T23:24:33.797862Z",
          "iopub.execute_input": "2022-02-09T23:24:33.798446Z",
          "iopub.status.idle": "2022-02-09T23:38:53.698315Z",
          "shell.execute_reply.started": "2022-02-09T23:24:33.798395Z",
          "shell.execute_reply": "2022-02-09T23:38:53.697124Z"
        },
        "trusted": true,
        "id": "ZuZDVDC_bqli"
      },
      "execution_count": null,
      "outputs": []
    },
    {
      "cell_type": "markdown",
      "source": [
        "# Create the LSTM Model\n",
        "\n",
        "The parameter used here inspired by [3].\n",
        "\n"
      ],
      "metadata": {
        "papermill": {
          "duration": 0.057228,
          "end_time": "2020-10-05T01:19:18.165925",
          "exception": false,
          "start_time": "2020-10-05T01:19:18.108697",
          "status": "completed"
        },
        "tags": [],
        "id": "J4tOjuBsbqlj"
      }
    },
    {
      "cell_type": "code",
      "source": [
        "from keras.models import Sequential\n",
        "from keras.layers import LSTM, Dense, Embedding\n",
        "\n",
        "\n",
        "# init layer\n",
        "model = Sequential()\n",
        "\n",
        "# emmbed word vectors\n",
        "model.add(Embedding(len(d2v_model.wv.vocab)+1,20,input_length=X.shape[1],weights=[embedding_matrix],trainable=True))\n",
        "\n",
        "# learn the correlations\n",
        "def split_input(sequence):\n",
        "     return sequence[:-1], tf.reshape(sequence[1:], (-1,1))\n",
        "model.add(LSTM(50,return_sequences=False))\n",
        "model.add(Dense(3,activation=\"softmax\"))\n",
        "\n",
        "# output model skeleton\n",
        "model.summary()\n",
        "model.compile(optimizer=\"adam\",loss=\"binary_crossentropy\",metrics=['acc'])"
      ],
      "metadata": {
        "papermill": {
          "duration": 0.54651,
          "end_time": "2020-10-05T01:19:18.770035",
          "exception": false,
          "start_time": "2020-10-05T01:19:18.223525",
          "status": "completed"
        },
        "tags": [],
        "execution": {
          "iopub.status.busy": "2022-02-09T23:38:53.700184Z",
          "iopub.execute_input": "2022-02-09T23:38:53.700666Z",
          "iopub.status.idle": "2022-02-09T23:38:54.240385Z",
          "shell.execute_reply.started": "2022-02-09T23:38:53.700631Z",
          "shell.execute_reply": "2022-02-09T23:38:54.239392Z"
        },
        "trusted": true,
        "id": "ZoezzXHRbqll"
      },
      "execution_count": null,
      "outputs": []
    },
    {
      "cell_type": "code",
      "source": [
        "from keras.utils import plot_model\n",
        "plot_model(model, to_file='model.png')"
      ],
      "metadata": {
        "papermill": {
          "duration": 0.641169,
          "end_time": "2020-10-05T01:19:19.468168",
          "exception": false,
          "start_time": "2020-10-05T01:19:18.826999",
          "status": "completed"
        },
        "tags": [],
        "execution": {
          "iopub.status.busy": "2022-02-09T23:38:54.241918Z",
          "iopub.execute_input": "2022-02-09T23:38:54.242298Z",
          "iopub.status.idle": "2022-02-09T23:38:54.833661Z",
          "shell.execute_reply.started": "2022-02-09T23:38:54.242261Z",
          "shell.execute_reply": "2022-02-09T23:38:54.832434Z"
        },
        "trusted": true,
        "id": "6punmrxJbqll"
      },
      "execution_count": null,
      "outputs": []
    },
    {
      "cell_type": "code",
      "source": [
        "Y = pd.get_dummies(df['sentiment']).values\n",
        "X_train, X_test, Y_train, Y_test = train_test_split(X,Y, test_size = 0.15, random_state = 42)\n",
        "print(X_train.shape,Y_train.shape)\n",
        "print(X_test.shape,Y_test.shape)"
      ],
      "metadata": {
        "papermill": {
          "duration": 0.073975,
          "end_time": "2020-10-05T01:19:19.600639",
          "exception": false,
          "start_time": "2020-10-05T01:19:19.526664",
          "status": "completed"
        },
        "tags": [],
        "execution": {
          "iopub.status.busy": "2022-02-09T23:38:54.835689Z",
          "iopub.execute_input": "2022-02-09T23:38:54.836104Z",
          "iopub.status.idle": "2022-02-09T23:38:54.856839Z",
          "shell.execute_reply.started": "2022-02-09T23:38:54.836062Z",
          "shell.execute_reply": "2022-02-09T23:38:54.855873Z"
        },
        "trusted": true,
        "id": "FIg6vF0kbqlm"
      },
      "execution_count": null,
      "outputs": []
    },
    {
      "cell_type": "code",
      "source": [
        "batch_size = 32\n",
        "history=model.fit(X_train, Y_train, epochs =50, batch_size=batch_size, verbose = 2)"
      ],
      "metadata": {
        "papermill": {
          "duration": 125.885256,
          "end_time": "2020-10-05T01:21:25.543826",
          "exception": false,
          "start_time": "2020-10-05T01:19:19.65857",
          "status": "completed"
        },
        "tags": [],
        "execution": {
          "iopub.status.busy": "2022-02-09T23:38:54.858676Z",
          "iopub.execute_input": "2022-02-09T23:38:54.859364Z",
          "iopub.status.idle": "2022-02-09T23:41:56.804637Z",
          "shell.execute_reply.started": "2022-02-09T23:38:54.859304Z",
          "shell.execute_reply": "2022-02-09T23:41:56.803608Z"
        },
        "trusted": true,
        "id": "NqQKny73bqln"
      },
      "execution_count": null,
      "outputs": []
    },
    {
      "cell_type": "code",
      "source": [
        "plt.plot(history.history['acc'])\n",
        "plt.title('model accuracy')\n",
        "plt.ylabel('acc')\n",
        "plt.xlabel('epochs')\n",
        "plt.legend(['train', 'test'], loc='upper left')\n",
        "plt.show()\n",
        "plt.savefig('model_accuracy.png')\n",
        "\n",
        "# summarize history for loss\n",
        "plt.plot(history.history['loss'])\n",
        "#plt.plot(history.history['val_loss'])\n",
        "plt.title('model loss')\n",
        "plt.ylabel('loss')\n",
        "plt.xlabel('epochs')\n",
        "plt.legend(['train', 'test'], loc='upper left')\n",
        "plt.show()\n",
        "plt.savefig('model_loss.png')"
      ],
      "metadata": {
        "papermill": {
          "duration": 0.398548,
          "end_time": "2020-10-05T01:21:26.027463",
          "exception": false,
          "start_time": "2020-10-05T01:21:25.628915",
          "status": "completed"
        },
        "tags": [],
        "execution": {
          "iopub.status.busy": "2022-02-09T23:41:56.805926Z",
          "iopub.execute_input": "2022-02-09T23:41:56.806284Z",
          "iopub.status.idle": "2022-02-09T23:41:57.182297Z",
          "shell.execute_reply.started": "2022-02-09T23:41:56.806252Z",
          "shell.execute_reply": "2022-02-09T23:41:57.181294Z"
        },
        "trusted": true,
        "id": "CTYbKswZbqln"
      },
      "execution_count": null,
      "outputs": []
    },
    {
      "cell_type": "code",
      "source": [
        "# evaluate the model\n",
        "_, train_acc = model.evaluate(X_train, Y_train, verbose=2)\n",
        "_, test_acc = model.evaluate(X_test, Y_test, verbose=2)\n",
        "print('Train: %.3f, Test: %.4f' % (train_acc, test_acc))"
      ],
      "metadata": {
        "papermill": {
          "duration": 2.004721,
          "end_time": "2020-10-05T01:21:28.118085",
          "exception": false,
          "start_time": "2020-10-05T01:21:26.113364",
          "status": "completed"
        },
        "tags": [],
        "execution": {
          "iopub.status.busy": "2022-02-09T23:41:57.183680Z",
          "iopub.execute_input": "2022-02-09T23:41:57.183973Z",
          "iopub.status.idle": "2022-02-09T23:41:58.824862Z",
          "shell.execute_reply.started": "2022-02-09T23:41:57.183943Z",
          "shell.execute_reply": "2022-02-09T23:41:58.823873Z"
        },
        "trusted": true,
        "id": "fNzEUH5Lbqlo"
      },
      "execution_count": null,
      "outputs": []
    },
    {
      "cell_type": "code",
      "source": [
        "# predict probabilities for test set\n",
        "yhat_probs = model.predict(X_test, verbose=0)\n",
        "print(yhat_probs)\n",
        "# predict crisp classes for test set\n",
        "yhat_classes = model.predict_classes(X_test, verbose=0)\n",
        "print(yhat_classes)\n",
        "# reduce to 1d array\n",
        "#yhat_probs = yhat_probs[:, 0]\n",
        "#yhat_classes = yhat_classes[:, 1"
      ],
      "metadata": {
        "papermill": {
          "duration": 0.801117,
          "end_time": "2020-10-05T01:21:29.007032",
          "exception": false,
          "start_time": "2020-10-05T01:21:28.205915",
          "status": "completed"
        },
        "tags": [],
        "execution": {
          "iopub.status.busy": "2022-02-09T23:41:58.826679Z",
          "iopub.execute_input": "2022-02-09T23:41:58.827036Z",
          "iopub.status.idle": "2022-02-09T23:41:59.585915Z",
          "shell.execute_reply.started": "2022-02-09T23:41:58.826971Z",
          "shell.execute_reply": "2022-02-09T23:41:59.584875Z"
        },
        "trusted": true,
        "id": "YBGa7l5hbqlo"
      },
      "execution_count": null,
      "outputs": []
    },
    {
      "cell_type": "code",
      "source": [
        "import numpy as np\n",
        "rounded_labels=np.argmax(Y_test, axis=1)\n",
        "rounded_labels"
      ],
      "metadata": {
        "papermill": {
          "duration": 0.100661,
          "end_time": "2020-10-05T01:21:29.195099",
          "exception": false,
          "start_time": "2020-10-05T01:21:29.094438",
          "status": "completed"
        },
        "tags": [],
        "execution": {
          "iopub.status.busy": "2022-02-09T23:41:59.587446Z",
          "iopub.execute_input": "2022-02-09T23:41:59.587782Z",
          "iopub.status.idle": "2022-02-09T23:41:59.597629Z",
          "shell.execute_reply.started": "2022-02-09T23:41:59.587750Z",
          "shell.execute_reply": "2022-02-09T23:41:59.596558Z"
        },
        "trusted": true,
        "id": "pCySkpW2bqlp"
      },
      "execution_count": null,
      "outputs": []
    },
    {
      "cell_type": "code",
      "source": [
        "from sklearn.metrics import confusion_matrix\n",
        "cm = confusion_matrix(rounded_labels, yhat_classes)\n",
        "cm"
      ],
      "metadata": {
        "papermill": {
          "duration": 0.102667,
          "end_time": "2020-10-05T01:21:29.386607",
          "exception": false,
          "start_time": "2020-10-05T01:21:29.28394",
          "status": "completed"
        },
        "tags": [],
        "execution": {
          "iopub.status.busy": "2022-02-09T23:41:59.599406Z",
          "iopub.execute_input": "2022-02-09T23:41:59.599743Z",
          "iopub.status.idle": "2022-02-09T23:41:59.615153Z",
          "shell.execute_reply.started": "2022-02-09T23:41:59.599711Z",
          "shell.execute_reply": "2022-02-09T23:41:59.614102Z"
        },
        "trusted": true,
        "id": "VssW_kOqbqlp"
      },
      "execution_count": null,
      "outputs": []
    },
    {
      "cell_type": "code",
      "source": [
        "# The confusion matrix\n",
        "from sklearn.metrics import confusion_matrix\n",
        "import seaborn as sns\n",
        "\n",
        "lstm_val = confusion_matrix(rounded_labels, yhat_classes)\n",
        "f, ax = plt.subplots(figsize=(5,5))\n",
        "sns.heatmap(lstm_val, annot=True, linewidth=0.7, linecolor='cyan', fmt='g', ax=ax, cmap=\"BuPu\")\n",
        "plt.title('LSTM Classification Confusion Matrix')\n",
        "plt.xlabel('Y predict')\n",
        "plt.ylabel('Y test')\n",
        "plt.show()"
      ],
      "metadata": {
        "papermill": {
          "duration": 0.274994,
          "end_time": "2020-10-05T01:21:29.78585",
          "exception": false,
          "start_time": "2020-10-05T01:21:29.510856",
          "status": "completed"
        },
        "tags": [],
        "execution": {
          "iopub.status.busy": "2022-02-09T23:41:59.616703Z",
          "iopub.execute_input": "2022-02-09T23:41:59.617044Z",
          "iopub.status.idle": "2022-02-09T23:41:59.826688Z",
          "shell.execute_reply.started": "2022-02-09T23:41:59.616983Z",
          "shell.execute_reply": "2022-02-09T23:41:59.825884Z"
        },
        "trusted": true,
        "id": "iCxVhFYXbqlq"
      },
      "execution_count": null,
      "outputs": []
    },
    {
      "cell_type": "markdown",
      "source": [
        "# Validation"
      ],
      "metadata": {
        "id": "MraEBSdbbqls"
      }
    },
    {
      "cell_type": "code",
      "source": [
        "validation_size = 610\n",
        "\n",
        "X_validate = X_test[-validation_size:]\n",
        "Y_validate = Y_test[-validation_size:]\n",
        "X_test = X_test[:-validation_size]\n",
        "Y_test = Y_test[:-validation_size]\n",
        "score,acc = model.evaluate(X_test, Y_test, verbose = 1, batch_size = batch_size)\n",
        "\n",
        "print(\"score: %.2f\" % (score))\n",
        "print(\"acc: %.2f\" % (acc))"
      ],
      "metadata": {
        "papermill": {
          "duration": 0.264325,
          "end_time": "2020-10-05T01:21:30.139378",
          "exception": false,
          "start_time": "2020-10-05T01:21:29.875053",
          "status": "completed"
        },
        "tags": [],
        "execution": {
          "iopub.status.busy": "2022-02-09T23:41:59.827832Z",
          "iopub.execute_input": "2022-02-09T23:41:59.828269Z",
          "iopub.status.idle": "2022-02-09T23:41:59.909793Z",
          "shell.execute_reply.started": "2022-02-09T23:41:59.828237Z",
          "shell.execute_reply": "2022-02-09T23:41:59.908369Z"
        },
        "trusted": true,
        "id": "lmc16LZlbqls"
      },
      "execution_count": null,
      "outputs": []
    },
    {
      "cell_type": "markdown",
      "source": [
        "**Save Model**\n"
      ],
      "metadata": {
        "papermill": {
          "duration": 0.09076,
          "end_time": "2020-10-05T01:21:30.321138",
          "exception": false,
          "start_time": "2020-10-05T01:21:30.230378",
          "status": "completed"
        },
        "tags": [],
        "id": "9WZJunvzbqlu"
      }
    },
    {
      "cell_type": "code",
      "source": [
        "\n",
        "model.save('Mymodel.h5')"
      ],
      "metadata": {
        "papermill": {
          "duration": 0.126922,
          "end_time": "2020-10-05T01:21:30.543805",
          "exception": false,
          "start_time": "2020-10-05T01:21:30.416883",
          "status": "completed"
        },
        "tags": [],
        "execution": {
          "iopub.status.busy": "2022-02-09T23:41:59.911941Z",
          "iopub.execute_input": "2022-02-09T23:41:59.912425Z",
          "iopub.status.idle": "2022-02-09T23:41:59.955212Z",
          "shell.execute_reply.started": "2022-02-09T23:41:59.912375Z",
          "shell.execute_reply": "2022-02-09T23:41:59.954217Z"
        },
        "trusted": true,
        "id": "3qHF0taqbqlu"
      },
      "execution_count": null,
      "outputs": []
    },
    {
      "cell_type": "markdown",
      "source": [
        "**Test with new and different data set aside from the data to build the model.**\n",
        "\n",
        "note : sentiment  = {'positive': 0,'neutral': 1,'negative':2} "
      ],
      "metadata": {
        "papermill": {
          "duration": 0.089611,
          "end_time": "2020-10-05T01:21:30.723508",
          "exception": false,
          "start_time": "2020-10-05T01:21:30.633897",
          "status": "completed"
        },
        "tags": [],
        "id": "acbhZSw-bqlw"
      }
    },
    {
      "cell_type": "code",
      "source": [
        "message = ['Congratulations! you have won a $1,000 Walmart gift card']\n",
        "seq = tokenizer.texts_to_sequences(message)\n",
        "\n",
        "padded = pad_sequences(seq, maxlen=X.shape[1], dtype='int32', value=0)\n",
        "\n",
        "pred = model.predict(padded)\n",
        "\n",
        "labels = ['0','1','2']\n",
        "print(pred, labels[np.argmax(pred)])"
      ],
      "metadata": {
        "papermill": {
          "duration": 0.139045,
          "end_time": "2020-10-05T01:21:30.952454",
          "exception": false,
          "start_time": "2020-10-05T01:21:30.813409",
          "status": "completed"
        },
        "tags": [],
        "execution": {
          "iopub.status.busy": "2022-02-09T23:41:59.956855Z",
          "iopub.execute_input": "2022-02-09T23:41:59.957226Z",
          "iopub.status.idle": "2022-02-09T23:42:00.010858Z",
          "shell.execute_reply.started": "2022-02-09T23:41:59.957191Z",
          "shell.execute_reply": "2022-02-09T23:42:00.010028Z"
        },
        "trusted": true,
        "id": "gMXMyFusbqlw"
      },
      "execution_count": null,
      "outputs": []
    },
    {
      "cell_type": "code",
      "source": [
        "message = ['such massive asteroid hit will certainly create new business opportunities']\n",
        "seq = tokenizer.texts_to_sequences(message)\n",
        "\n",
        "padded = pad_sequences(seq, maxlen=X.shape[1], dtype='int32', value=0)\n",
        "\n",
        "pred = model.predict(padded)\n",
        "\n",
        "labels = ['0','1','2']\n",
        "print(pred, labels[np.argmax(pred)])"
      ],
      "metadata": {
        "papermill": {
          "duration": 0.141443,
          "end_time": "2020-10-05T01:21:31.185934",
          "exception": false,
          "start_time": "2020-10-05T01:21:31.044491",
          "status": "completed"
        },
        "tags": [],
        "execution": {
          "iopub.status.busy": "2022-02-09T23:42:00.012136Z",
          "iopub.execute_input": "2022-02-09T23:42:00.012539Z",
          "iopub.status.idle": "2022-02-09T23:42:00.064732Z",
          "shell.execute_reply.started": "2022-02-09T23:42:00.012508Z",
          "shell.execute_reply": "2022-02-09T23:42:00.063826Z"
        },
        "trusted": true,
        "id": "HwmipTmhbqlx"
      },
      "execution_count": null,
      "outputs": []
    },
    {
      "cell_type": "code",
      "source": [
        "message = ['so does anyone else not open Snapchat anymore ? or is it just me ... ugh this so sad.']\n",
        "seq = tokenizer.texts_to_sequences(message)\n",
        "\n",
        "padded = pad_sequences(seq, maxlen=X.shape[1], dtype='int32', value=0)\n",
        "\n",
        "pred = model.predict(padded)\n",
        "\n",
        "labels = ['0','1','2']\n",
        "print(pred, labels[np.argmax(pred)])"
      ],
      "metadata": {
        "execution": {
          "iopub.status.busy": "2022-02-09T23:42:00.066360Z",
          "iopub.execute_input": "2022-02-09T23:42:00.066670Z",
          "iopub.status.idle": "2022-02-09T23:42:00.119396Z",
          "shell.execute_reply.started": "2022-02-09T23:42:00.066639Z",
          "shell.execute_reply": "2022-02-09T23:42:00.118095Z"
        },
        "trusted": true,
        "id": "YLX4AXq-bqlx"
      },
      "execution_count": null,
      "outputs": []
    },
    {
      "cell_type": "code",
      "source": [
        "message = ['@elonmusk had a terrible experience with a very pushy sales guy from tesla Stanford shop while shopping for model x']\n",
        "seq = tokenizer.texts_to_sequences(message)\n",
        "\n",
        "padded = pad_sequences(seq, maxlen=X.shape[1], dtype='int32', value=0)\n",
        "\n",
        "pred = model.predict(padded)\n",
        "\n",
        "labels = ['0','1','2']\n",
        "print(pred, labels[np.argmax(pred)])"
      ],
      "metadata": {
        "execution": {
          "iopub.status.busy": "2022-02-09T23:42:00.120901Z",
          "iopub.execute_input": "2022-02-09T23:42:00.121371Z",
          "iopub.status.idle": "2022-02-09T23:42:00.175543Z",
          "shell.execute_reply.started": "2022-02-09T23:42:00.121323Z",
          "shell.execute_reply": "2022-02-09T23:42:00.174136Z"
        },
        "trusted": true,
        "id": "Hn6QzHUgbqly"
      },
      "execution_count": null,
      "outputs": []
    },
    {
      "cell_type": "code",
      "source": [
        "message = ['The local electronics industry is expected to remain stable amid layoff concerns surrounding Japanese electronics giants operating in the country, an official says.']\n",
        "seq = tokenizer.texts_to_sequences(message)\n",
        "\n",
        "padded = pad_sequences(seq, maxlen=X.shape[1], dtype='int32', value=0)\n",
        "\n",
        "pred = model.predict(padded)\n",
        "\n",
        "labels = ['0','1','2']\n",
        "print(pred, labels[np.argmax(pred)])"
      ],
      "metadata": {
        "execution": {
          "iopub.status.busy": "2022-02-09T23:42:00.182148Z",
          "iopub.execute_input": "2022-02-09T23:42:00.182687Z",
          "iopub.status.idle": "2022-02-09T23:42:00.237308Z",
          "shell.execute_reply.started": "2022-02-09T23:42:00.182637Z",
          "shell.execute_reply": "2022-02-09T23:42:00.236259Z"
        },
        "trusted": true,
        "id": "cd1kgLZvbqlz"
      },
      "execution_count": null,
      "outputs": []
    },
    {
      "cell_type": "code",
      "source": [
        "message = ['The local electronics industry is amid layoff concerns and last year has laid off tens of employees']\n",
        "seq = tokenizer.texts_to_sequences(message)\n",
        "\n",
        "padded = pad_sequences(seq, maxlen=X.shape[1], dtype='int32', value=0)\n",
        "\n",
        "pred = model.predict(padded)\n",
        "\n",
        "labels = ['0','1','2']\n",
        "print(pred, labels[np.argmax(pred)])"
      ],
      "metadata": {
        "execution": {
          "iopub.status.busy": "2022-02-09T23:42:00.238894Z",
          "iopub.execute_input": "2022-02-09T23:42:00.239265Z",
          "iopub.status.idle": "2022-02-09T23:42:00.294382Z",
          "shell.execute_reply.started": "2022-02-09T23:42:00.239233Z",
          "shell.execute_reply": "2022-02-09T23:42:00.293402Z"
        },
        "trusted": true,
        "id": "WZs9MjC0bqlz"
      },
      "execution_count": null,
      "outputs": []
    },
    {
      "cell_type": "markdown",
      "source": [
        "References\n",
        "* [1] Artificial Inteligence, Machine Learning and Deep Learning by Mercury Learning and Informarion (Book)\n",
        "* [2] Source Information of NLP :https://monkeylearn.com/what-is-text-classification/\n",
        "* [3] Parameter doc2vec and  LSTM inspired  by : https://dl.acm.org/doi/10.1145/3406601.3406624\n",
        "* [4] (Bing Liu. Sentiment Analysis and Opinion Mining, Morgan & Claypool Publishers, May 2012.)"
      ],
      "metadata": {
        "papermill": {
          "duration": 0.090616,
          "end_time": "2020-10-05T01:21:31.367463",
          "exception": false,
          "start_time": "2020-10-05T01:21:31.276847",
          "status": "completed"
        },
        "tags": [],
        "id": "MqyIPHJAbql0"
      }
    }
  ]
}